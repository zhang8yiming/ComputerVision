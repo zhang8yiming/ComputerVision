{
  "cells": [
    {
      "cell_type": "markdown",
      "metadata": {
        "id": "view-in-github",
        "colab_type": "text"
      },
      "source": [
        "<a href=\"https://colab.research.google.com/github/zhang8yiming/ComputerVision/blob/main/L5_Homework.ipynb\" target=\"_parent\"><img src=\"https://colab.research.google.com/assets/colab-badge.svg\" alt=\"Open In Colab\"/></a>"
      ]
    },
    {
      "cell_type": "markdown",
      "metadata": {
        "id": "-hpVhygfkGpi"
      },
      "source": [
        "# 动手实现一个三层神经网络\n",
        "\n",
        "## 作业内容\n",
        "  \n",
        "  在本次作业中，你将：\n",
        "\n",
        "+ 使用`numpy`库手动实现一个前向传播过程\n",
        "+ 使用`PyTorch`搭建一个简单的分类网络，搭配`CIFAR-10`数据集，完成一个简单物体分类模型的搭建、训练、预测、评估。\n",
        "\n",
        "## 数据集介绍\n",
        "  `CIFAR-10`数据集是图像分类任务中最为基础的数据集之一，它由 $60000$ 张 $32$ 像素 * $32$像素的图片构成，包含 $10$ 个类别，每个类别有 $6000$ 张图片。其中 $50000$ 张图片被划分为训练集，$10000$ 张为测试集。\n",
        "\n",
        "![在这里插入图片描述](https://img-blog.csdnimg.cn/f829c2250eaf430eb2bdcddeca317b42.png#pic_center)\n",
        "\n",
        "\n",
        "## 相关知识点\n",
        "\n",
        "- 前向传播原理\n",
        "- 基础分类模型搭建、训练及评估\n",
        "\n"
      ]
    },
    {
      "cell_type": "markdown",
      "source": [
        "## 练习指导(没有思路，再查看)\n",
        "\n",
        "**练习指导是给大家提供思路，若在完成中遇到问题，可以查看提示**~\n",
        "\n",
        "### 项目1：简单神经网络的前向传播\n",
        "\n",
        "#### 问题1：定义初始参数及激活函数\n",
        "![在这里插入图片描述](https://img-blog.csdnimg.cn/0d4a534e1d5743c99bd006f44180b334.png#pic_center)\n",
        "\n",
        "上图展示的是一个简单的神经网结构，它由一个输入层（蓝色）、两个隐藏层（黄色）和一个输出层（红色）组成。\n",
        "\n",
        "- numpy数组的定义 \n",
        "\n",
        "样例代码:\n",
        "```python\n",
        "import numpy as np\n",
        "a = np.array([1, 2, 3, 4, 5])\n",
        "print(a)\n",
        "# [1 2 3 4 5]\n",
        "```\n",
        "\n",
        "- tanh激活函数\n",
        "\n",
        "  tanh激活函数的数学计算公式如下:\n",
        "\n",
        "$$tanh(x) = e^x - e^{-x} /e^x + e^{-x} $$\n",
        "\n",
        "Tips：$e^x$ 可以使用`np.exp(x)`实现。\n",
        "\n",
        "#### 问题2：逐层计算神经网络输出\n",
        "\n",
        "1.`Numpy`的点乘与矩阵相乘\n",
        "\n",
        "> - 点乘：`Numpy.dot()`\n",
        "> - 一维矩阵：计算内积，即：`dot( 1 x n , 1 x n ) = 一个数`\n",
        "> - 二维矩阵：线性代数矩阵相乘`(n x m)·(m x s)`，即 `dot( n x m , m x s ) = n x s`\n",
        "> - 对应元素相乘：`Numpy.multiply()`和`“*”`\n",
        "> - multiply`( n x m , n x m ) = n x m`\n",
        "> - `( n x m ) * ( n x m ) = n x m`\n",
        "\n",
        "**注：两个矩阵必须行列相同**\n",
        "\n",
        "\n",
        "2.神经网络中的乘法运算\n",
        "\n",
        "  样例代码:\n",
        "  \n",
        "```python\n",
        "hidden_11_value = tanh((input_data * weights['h11']).sum())\n",
        "```\n",
        "\n",
        "\n",
        "\n"
      ],
      "metadata": {
        "id": "KtzSYftIkPjp"
      }
    },
    {
      "cell_type": "markdown",
      "source": [
        "### 项目2：CIFAR-10图像分类\n",
        "\n",
        "#### 问题1：搭建简单神经网络\n",
        "\n",
        "  在本问题中，你需要补全`nn.Linear()`的参数，其主要参数为：`in_features`和`out_features`，只需填入输入和输出的形状即可，样例代码如下：\n",
        "\n",
        "  ```python\n",
        "input = torch.randn(128, 20)\n",
        "m = nn.Linear(20, 30)\n",
        "output = m(input)\n",
        "print(output.size())\n",
        "torch.Size([128, 30])\n",
        "  ```\n",
        "\n",
        "#### 问题2：神经网络的训练\n",
        "\n",
        "  在本问题中，你需要根据训练步骤补全训练代码，神经网络训练步骤如下：\n",
        "\n",
        "> - 清空优化器的梯度\n",
        "> - 读入data和label，并进行形状变换（可做可不做）\n",
        "> - 运行模型前向传播过程\n",
        "> - 基于模型输出生成最终结果\n",
        "> - 计算损失\n",
        "> - 基于损失计算梯度\n",
        "> - 基于梯度更新参数\n",
        "\n",
        "  补全代码若需内容如下，你可将下列代码按训练步骤顺序，填入项目实操代码框中。\n",
        "\n",
        "注意：你需要使用下列全部代码，且不能自己新增代码。\n",
        "\n",
        "```python\n",
        "outputs = net(inputs) # 用于模型前向传播\n",
        "loss.backward() # 用于计算梯度\n",
        "optimizer.step() # 用于参数更新\n",
        "optimizer.zero_grad() # 用于清空优化器梯度\n",
        "inputs, labels = data # 用于读入data和label\n",
        "inputs = inputs.view(-1, 32 * 32 * 3) # 用于对输入进行形状变换\n",
        "_, preds = torch.max(outputs, 1) # 用于生成最终输出结果\n",
        "loss = criterion(outputs, labels) # 用于计算损失\n",
        "```\n",
        "\n",
        "#### 问题3：模型测评\n",
        "Tips：模型测评过程中的数据导入、前向传播过程与训练过程基本相同，可以参照训练过程来写。"
      ],
      "metadata": {
        "id": "2QSAD8T-k4-e"
      }
    },
    {
      "cell_type": "markdown",
      "metadata": {
        "id": "t7733wjrkGpo"
      },
      "source": [
        "## 准备工作\n",
        "导入本次项目要用到的库：<br>"
      ]
    },
    {
      "cell_type": "code",
      "execution_count": null,
      "metadata": {
        "id": "NobwOOmxkGpo"
      },
      "outputs": [],
      "source": [
        "# 基础运算库\n",
        "import numpy as np\n",
        "# 深度学习库\n",
        "import torch\n",
        "import torch.nn as nn\n",
        "import torch.optim as optim\n",
        "import torchvision\n",
        "import torch.nn.functional as F\n",
        "import torchvision.transforms as transforms\n",
        "# 辅助绘图库\n",
        "import matplotlib.pyplot as plt\n",
        "# 时间操作库\n",
        "import time\n",
        "# 进度条控制库\n",
        "from tqdm import tqdm"
      ]
    },
    {
      "cell_type": "markdown",
      "metadata": {
        "id": "NCQ8kgFPkGpp"
      },
      "source": [
        "# 项目1：简单神经网络的前向传播\n",
        "\n",
        "## 问题1：定义初始参数及激活函数（15分）\n",
        "\n",
        "&emsp;&emsp;你需要使用numpy实现神经网络的前向传播过程，并算出输出层的最终输出结果。<br>\n",
        "**为了完成上述任务我们需要进行如下假设：**<br>\n",
        "1. 输入的值为\\[3,5\\]<br>\n",
        "1. 隐藏层h1的两个权重为\\[2,4\\]、\\[4,-5\\]<br>\n",
        "1. 隐藏层h2的两个权重为\\[-1,1\\]、\\[2,2\\]<br>\n",
        "1. 输出层的权重为\\[-3,7\\]<br>\n",
        "1. 所有层不使用偏置<br>\n",
        "1. 所有隐藏层需添加tanh激活函数<br>\n",
        "\n",
        "<font color=red>请定义一个numpy数组，内容为神经网络的输入数据</font><br>"
      ]
    },
    {
      "cell_type": "code",
      "execution_count": null,
      "metadata": {
        "id": "T8Gy5up1kGpp"
      },
      "outputs": [],
      "source": [
        "######## your code ########  \n",
        "\n",
        "######## your code ########"
      ]
    },
    {
      "cell_type": "markdown",
      "metadata": {
        "id": "hn7ctt2IkGpq"
      },
      "source": [
        "<font color=red>请定义一个numpy数组，内容为神经网络的隐藏层及输出层权重</font><br>\n",
        "Tips：权重字典已经建好，你只需要按照隐藏层名称填入对应的值即可。"
      ]
    },
    {
      "cell_type": "code",
      "execution_count": null,
      "metadata": {
        "id": "p9iuuyW3kGpr"
      },
      "outputs": [],
      "source": [
        "######## your code ########\n",
        "weights = {'h11': np.array( ),\n",
        "           'h12': np.array( ),\n",
        "           'h21': np.array( ),\n",
        "           'h22': np.array( ),\n",
        "           'out': np.array( )}\n",
        "######## your code ########"
      ]
    },
    {
      "cell_type": "markdown",
      "metadata": {
        "id": "1GxL_yAXkGpr"
      },
      "source": [
        "<font color=red>请完善tanh激活函数</font><br>"
      ]
    },
    {
      "cell_type": "code",
      "execution_count": null,
      "metadata": {
        "id": "juh9QQ1WkGpr"
      },
      "outputs": [],
      "source": [
        "######## your code ########\n",
        "def tanh(x):\n",
        "    pass\n",
        "######## your code ########"
      ]
    },
    {
      "cell_type": "markdown",
      "metadata": {
        "id": "9NSxDgOUkGps"
      },
      "source": [
        "## 问题2：逐层计算神经网络输出（30分）\n",
        "\n",
        "&emsp;&emsp;在神经网络的计算中，需要先将需计算层的权重与其输入数据相乘，而后求和，继而通过激活函数的运算，就可以输出到下一层了。<br>\n",
        "**下面我们将以层为单位，进行运算：**<br>\n",
        "1. 首先是第一个隐藏层，你需要将输入层的数据与隐藏层的权重相乘、求和、并输入到激活函数中。<br>\n",
        "\n",
        "<font color=red>补全下列代码，将输入层的数据与第一隐藏层的权重相乘、求和、并输入到激活函数中。</font><br>"
      ]
    },
    {
      "cell_type": "code",
      "execution_count": null,
      "metadata": {
        "id": "KVYzAr1VkGps"
      },
      "outputs": [],
      "source": [
        "######## your code ########\n",
        "hidden_11_value = \n",
        "hidden_12_value = \n",
        "######## your code ########\n",
        "\n",
        "hidden_1_output = np.array([hidden_11_value, hidden_12_value])"
      ]
    },
    {
      "cell_type": "markdown",
      "metadata": {
        "id": "L4zNVEKvkGps"
      },
      "source": [
        "2. 接下来是第二个隐藏层，这一层的操作与上一层完全相同。<br>\n",
        "\n",
        "<font color=red>请补全下列代码，将上层输出的数据与第二隐藏层的权重相乘、求和、并输入到激活函数中。</font><br>"
      ]
    },
    {
      "cell_type": "code",
      "execution_count": null,
      "metadata": {
        "id": "iPjF9PmrkGps"
      },
      "outputs": [],
      "source": [
        "######## your code ########\n",
        "hidden_21_value = \n",
        "hidden_22_value = \n",
        "######## your code ########\n",
        "\n",
        "hidden_2_output = np.array([hidden_21_value, hidden_22_value])"
      ]
    },
    {
      "cell_type": "markdown",
      "metadata": {
        "id": "b25J7qJrkGpt"
      },
      "source": [
        "3. 最后是输出层，此时只有一个节点需要运算，且无需添加激活函数。<br>\n",
        "\n",
        "<font color=red>请补全下列代码，将上层输出的数据与输出层的权重相乘、求和。</font><br>"
      ]
    },
    {
      "cell_type": "code",
      "execution_count": null,
      "metadata": {
        "id": "nfcJbYGKkGpt"
      },
      "outputs": [],
      "source": [
        "######## your code ########\n",
        "output = \n",
        "######## your code ########"
      ]
    },
    {
      "cell_type": "markdown",
      "metadata": {
        "id": "uJIr9TDtkGpt"
      },
      "source": [
        "4. 至此，你已经完成了全部运算，下面将这几层的输出打印出来看看吧。<br>\n",
        "*注：output应为9.887385002294863*<br>"
      ]
    },
    {
      "cell_type": "code",
      "execution_count": null,
      "metadata": {
        "id": "1gy0wIPRkGpt"
      },
      "outputs": [],
      "source": [
        "print(output)"
      ]
    },
    {
      "cell_type": "markdown",
      "metadata": {
        "id": "1iYEPEvMkGpt"
      },
      "source": [
        "# 项目2：CIFAR-10图像分类\n",
        "\n",
        "## 前置准备\n",
        "\n",
        "&emsp;&emsp;本项目使用的数据集可以从torchvision库中直接导出，下面是一些基础数据操作（数据下载可能需要几分钟，请耐心等待）。<br>"
      ]
    },
    {
      "cell_type": "code",
      "execution_count": null,
      "metadata": {
        "id": "mV1eHwlEkGpu"
      },
      "outputs": [],
      "source": [
        "##定义对图像的各种变换操作，包括把array转换为tensor，对图像做正则化\n",
        "#transforms.Compose主要是用于常见的一些图形变换，例如裁剪、旋转\n",
        "#遍历list数组，对img依次执行每个transforms操作\n",
        "transform = transforms.Compose([transforms.ToTensor(),\n",
        "                                transforms.Normalize((0.4914, 0.48216, 0.44653),\n",
        "                                                     (0.24703, 0.24349, 0.26159))])\n",
        "#导出torchvision里的CIFAR10数据集，root是把数据下载之后存放的目录，train控制是不是在训练阶段，download控制是不是需要下载，transform把一系列的图像变换传入进来。\n",
        "trainset = torchvision.datasets.CIFAR10(root='./',\n",
        "                                        train=True, \n",
        "                                        download=True, \n",
        "                                        transform=transform)\n",
        "testset = torchvision.datasets.CIFAR10(root='./',\n",
        "                                       train=False, \n",
        "                                       download=True, \n",
        "                                       transform=transform)\n",
        "#用来把训练数据分成多个小组，此函数每次抛出一组数据。\n",
        "trainloader = torch.utils.data.DataLoader(trainset, \n",
        "                                          batch_size=16,\n",
        "                                          shuffle=True)\n",
        "#用来把测试数据分成多个小组，此函数每次抛出一组数据。\n",
        "testloader = torch.utils.data.DataLoader(testset, \n",
        "                                         batch_size=16, \n",
        "                                         shuffle=False)"
      ]
    },
    {
      "cell_type": "markdown",
      "metadata": {
        "id": "Viqn2j8_kGpu"
      },
      "source": [
        "&emsp;&emsp;数据下载完成后，我们就可以简单查看数据label，看看是否和练习说明中的数据集介绍对的上。<br>"
      ]
    },
    {
      "cell_type": "code",
      "execution_count": null,
      "metadata": {
        "id": "YVmue-9PkGpu"
      },
      "outputs": [],
      "source": [
        "trainset.classes"
      ]
    },
    {
      "cell_type": "markdown",
      "metadata": {
        "id": "w9sv92NLkGpu"
      },
      "source": [
        "&emsp;&emsp;下面我们再来检查一下数据图像。<br>"
      ]
    },
    {
      "cell_type": "code",
      "execution_count": null,
      "metadata": {
        "id": "iZdKqnYlkGpu"
      },
      "outputs": [],
      "source": [
        "#把图片进行可视化展示\n",
        "#定义画图的函数\n",
        "def imshow(inp, title=None):\n",
        "    \"\"\"Imshow for Tensor.\"\"\"\n",
        "    #定义画图的画布\n",
        "    fig = plt.figure(figsize=(30, 30))\n",
        "    #转换图片的纬度\n",
        "    inp = inp.numpy().transpose((1, 2, 0))\n",
        "    mean = np.array([0.485, 0.456, 0.406])\n",
        "    std = np.array([0.229, 0.224, 0.225])\n",
        "    #对图片进行标准化\n",
        "    inp = std * inp + mean\n",
        "    #整个图片数组的值限制在指定值a_min,与a_max之间\n",
        "    inp = np.clip(inp, 0, 1)\n",
        "    #对图片进行可视化展示\n",
        "    plt.imshow(inp, )\n",
        "\n",
        "# 获取一个batch的数据\n",
        "inputs, classes = next(iter(trainloader))\n",
        "\n",
        "# 以网格的格式展示，作用是将若干幅图像拼成一幅图像\n",
        "out = torchvision.utils.make_grid(inputs)\n",
        "# plt.imshow()就可显示图片同时也显示其格式。\n",
        "imshow(out, title=[trainset.classes[x] for x in classes])"
      ]
    },
    {
      "cell_type": "markdown",
      "metadata": {
        "id": "N9sq1rZWkGpv"
      },
      "source": [
        "## 问题1：搭建简单神经网络（20分）\n",
        "&emsp;&emsp;数据准备就绪后，就需要你来搭建一个简单神经网络。<br>\n",
        "&emsp;&emsp;<font color=red>请补全下列代码，定义一个3层全连接神经网络，输入维度是32*32*3，第一层输出维度是1000，第二层输出维度是500，第三层输出维度是10。</font><br>"
      ]
    },
    {
      "cell_type": "code",
      "execution_count": null,
      "metadata": {
        "id": "SnqiHvP6kGpv"
      },
      "outputs": [],
      "source": [
        "class Net(nn.Module):\n",
        "    def __init__(self):\n",
        "        super(Net, self).__init__()\n",
        "        \n",
        "        ######## your code ########\n",
        "        self.fc1 = nn.Linear( , )\n",
        "        self.fc2 = nn.Linear( , )\n",
        "        self.fc3 = nn.Linear( , )\n",
        "        ######## your code ########\n",
        "        \n",
        "    def forward(self, x):\n",
        "        x = F.relu(self.fc1(x))\n",
        "        x = F.relu(self.fc2(x))\n",
        "        return self.fc3(x)\n",
        "#实例话神经网络的类\n",
        "net = Net()"
      ]
    },
    {
      "cell_type": "markdown",
      "metadata": {
        "id": "oc26ZgYKkGpv"
      },
      "source": [
        "&emsp;&emsp;在定义好模型结构之后，还需确定损失函数及优化器。<br>"
      ]
    },
    {
      "cell_type": "code",
      "execution_count": null,
      "metadata": {
        "id": "0zhMQpHbkGpv"
      },
      "outputs": [],
      "source": [
        "# 定义损失函数-交叉熵\n",
        "criterion = nn.CrossEntropyLoss()\n",
        "# 定义优化器，将神经网络的参数都传入优化器，并定义学习率\n",
        "optimizer = optim.Adam(net.parameters(), lr=3e-4)"
      ]
    },
    {
      "cell_type": "markdown",
      "metadata": {
        "id": "KzzVE6xFkGpv"
      },
      "source": [
        "## 问题2：神经网络的训练（25分）\n",
        "\n",
        "&emsp;&emsp;模型主要内容都已完成，下面就可以进行训练了。在模型训练过程中，一般遵循如下步骤：<br>\n",
        "1. 大for循环-epochs，用于管理一套数据循环训练几遍<br>\n",
        "1. 小for循环-step，用于以batchsize为单位，从dataloader中调取数据<br>\n",
        "1. 清空优化器的梯度<br>\n",
        "1. 读入data和label，并进行形状变换（可做可不做）<br>\n",
        "1. 运行模型前向传播过程<br>\n",
        "1. 基于模型输出生成最终结果<br>\n",
        "1. 计算损失<br>\n",
        "1. 基于损失计算梯度<br>\n",
        "1. 基于梯度更新参数<br>\n",
        "\n",
        "&emsp;&emsp;<font color=red>请补全代码，训练模型。（相关代码已经提供在练习指导中，你需要根据模型训练步骤，将代码段逐一填入下列代码中）*</font><br>"
      ]
    },
    {
      "cell_type": "code",
      "execution_count": null,
      "metadata": {
        "id": "l03bbsTHkGpv"
      },
      "outputs": [],
      "source": [
        "num_epochs = 10\n",
        "since = time.time()\n",
        "net.train()\n",
        "for epoch in range(num_epochs):\n",
        "    print('Epoch {}/{}'.format(epoch + 1, num_epochs))\n",
        "    \n",
        "    running_loss = 0.0\n",
        "    running_corrects = 0\n",
        "    # 从trainloader里循环取出每一批次数据，\n",
        "    for data in tqdm(trainloader):\n",
        "\n",
        "        ######## your code ########\n",
        "        \n",
        "        \n",
        "        ######## your code ########\n",
        "\n",
        "        # 一个批次数据的损失函数的计算\n",
        "        running_loss += loss.item() * inputs.size(0)\n",
        "        # 一个批次数据准确率的计算\n",
        "        running_corrects += torch.sum(preds == labels.data)\n",
        "    \n",
        "    epoch_loss = running_loss / trainloader.dataset.data.shape[0]\n",
        "    epoch_acc = running_corrects.double() / trainloader.dataset.data.shape[0]\n",
        "    \n",
        "    print('train Loss: {:.4f} Acc: {:.4f}'.format(\n",
        "        epoch_loss, epoch_acc))\n",
        "    print('-' * 10)\n",
        "    \n",
        "time_elapsed = time.time() - since\n",
        "print('Training complete in {:.0f}m {:.0f}s'.format(\n",
        "    time_elapsed // 60, time_elapsed % 60))"
      ]
    },
    {
      "cell_type": "markdown",
      "metadata": {
        "id": "hrygyMtLkGpv"
      },
      "source": [
        "## 问题3：模型测评（10分）\n",
        "\n",
        "&emsp;&emsp;完成模型训练后，还需对模型进行测评，验证模型在测试集上的精度。<br>\n",
        "Tips：在模型训练日志中，也有打印精确度acc，但这是模型在训练集上的精度，而不是测试集上的精度哦。你可以观察观察训练集精度与测试集精度，看看有没有什么差异。<br>\n",
        "&emsp;&emsp;<font color=red>请补全下列代码，完成模型测评</font><br>"
      ]
    },
    {
      "cell_type": "code",
      "execution_count": null,
      "metadata": {
        "id": "CIWUAJjvkGpw"
      },
      "outputs": [],
      "source": [
        "# TODO： 补全下列代码，完成模型测评\n",
        "correct, total = 0, 0\n",
        "net.eval()\n",
        "for data in tqdm(testloader):\n",
        "    \n",
        "    ######## your code ########\n",
        "    inputs, labels = \n",
        "    inputs = \n",
        "    outputs = \n",
        "    ######## your code ########\n",
        "    \n",
        "    _, predicted = torch.max(outputs, 1) \n",
        "    total += labels.size(0)\n",
        "    correct += (predicted == labels).sum().item()\n",
        "print('The testing set accuracy of the network is: %d %%' % (100 * correct / total))"
      ]
    }
  ],
  "metadata": {
    "kernelspec": {
      "display_name": "Python 3",
      "language": "python",
      "name": "python3"
    },
    "language_info": {
      "codemirror_mode": {
        "name": "ipython",
        "version": 3
      },
      "file_extension": ".py",
      "mimetype": "text/x-python",
      "name": "python",
      "nbconvert_exporter": "python",
      "pygments_lexer": "ipython3",
      "version": "3.7.6"
    },
    "colab": {
      "name": "L5_Homework.ipynb",
      "provenance": [],
      "toc_visible": true,
      "include_colab_link": true
    }
  },
  "nbformat": 4,
  "nbformat_minor": 0
}