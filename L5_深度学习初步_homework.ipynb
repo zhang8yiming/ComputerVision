{
  "cells": [
    {
      "cell_type": "markdown",
      "metadata": {
        "id": "view-in-github",
        "colab_type": "text"
      },
      "source": [
        "<a href=\"https://colab.research.google.com/github/zhang8yiming/ComputerVision/blob/main/L5_%E6%B7%B1%E5%BA%A6%E5%AD%A6%E4%B9%A0%E5%88%9D%E6%AD%A5_homework.ipynb\" target=\"_parent\"><img src=\"https://colab.research.google.com/assets/colab-badge.svg\" alt=\"Open In Colab\"/></a>"
      ]
    },
    {
      "cell_type": "markdown",
      "metadata": {
        "id": "Xx7dRzVtQw5z"
      },
      "source": [
        "## 准备工作\n",
        "导入本次项目要用到的库：<br>"
      ]
    },
    {
      "cell_type": "code",
      "execution_count": 1,
      "metadata": {
        "id": "bCj0r9RfQw50"
      },
      "outputs": [],
      "source": [
        "# 基础运算库\n",
        "import numpy as np\n",
        "# 深度学习库\n",
        "import torch\n",
        "import torch.nn as nn\n",
        "import torch.optim as optim\n",
        "import torchvision\n",
        "import torch.nn.functional as F\n",
        "import torchvision.transforms as transforms\n",
        "# 辅助绘图库\n",
        "import matplotlib.pyplot as plt\n",
        "# 时间操作库\n",
        "import time\n",
        "# 进度条控制库\n",
        "from tqdm import tqdm"
      ]
    },
    {
      "cell_type": "markdown",
      "metadata": {
        "id": "-C8e6JjbQw52"
      },
      "source": [
        "# 项目1：简单神经网络的前向传播\n",
        "\n",
        "## 问题1：定义初始参数及激活函数\n",
        "\n",
        "&emsp;&emsp;你需要使用numpy实现神经网络的前向传播过程，并算出输出层的最终输出结果。<br>\n",
        "**为了完成上述任务我们需要进行如下假设：**<br>\n",
        "1. 输入的值为\\[3,5\\]\n",
        "1. 隐藏层h1的两个权重为\\[2,4\\]、\\[4,-5\\]\n",
        "1. 隐藏层h2的两个权重为\\[-1,1\\]、\\[2,2\\]\n",
        "1. 输出层的权重为\\[-3,7\\]\n",
        "1. 所有层不使用偏置\n",
        "1. 所有隐藏层需添加tanh激活函数"
      ]
    },
    {
      "cell_type": "code",
      "execution_count": 2,
      "metadata": {
        "id": "KH2LdTe0Qw52"
      },
      "outputs": [],
      "source": [
        "# TODO： 定义一个numpy数组，内容为神经网络的输入数据：\n",
        "input_data = np.array([3, 5])"
      ]
    },
    {
      "cell_type": "code",
      "execution_count": 3,
      "metadata": {
        "id": "x3TT70kYQw53"
      },
      "outputs": [],
      "source": [
        "# TODO： 定义一个numpy数组，内容为神经网络的隐藏层及输出层权重：\n",
        "# Tips：权重字典已经建好，你只需要按照隐藏层名称填入对应的值即可\n",
        "weights = {'h11': np.array([2, 4]),\n",
        "           'h12': np.array([4, -5]),\n",
        "           'h21': np.array([-1, 1]),\n",
        "           'h22': np.array([2, 2]),\n",
        "           'out': np.array([-3, 7])}"
      ]
    },
    {
      "cell_type": "code",
      "execution_count": 4,
      "metadata": {
        "id": "3CqobkseQw54"
      },
      "outputs": [],
      "source": [
        "# TODO： 完善下列tanh激活函数：\n",
        "def tanh(x):\n",
        "    return (np.exp(x)-np.exp(-x))/(np.exp(x)+np.exp(-x))"
      ]
    },
    {
      "cell_type": "markdown",
      "metadata": {
        "id": "qoayrLI4Qw55"
      },
      "source": [
        "## 问题2：逐层计算神经网络输出\n",
        "\n",
        "&emsp;&emsp;在神经网络的计算中，需要先将需计算层的权重与其输入数据相乘，而后求和，继而通过激活函数的运算，就可以输出到下一层了。<br>\n",
        "**下面我们将以层为单位，进行运算：**<br>\n",
        "1. 首先是第一个隐藏层，你需要将输入层的数据与隐藏层的权重相乘、求和、并输入到激活函数中。<br>"
      ]
    },
    {
      "cell_type": "code",
      "execution_count": 5,
      "metadata": {
        "colab": {
          "base_uri": "https://localhost:8080/"
        },
        "id": "ZPfF2A9jQw55",
        "outputId": "e4d63c91-e0de-41be-ed7f-6e478eac357c"
      },
      "outputs": [
        {
          "output_type": "stream",
          "name": "stdout",
          "text": [
            "[ 6 20]\n",
            "1.9999877116507956 1.0\n"
          ]
        }
      ],
      "source": [
        "print(input_data * weights['h11'])\n",
        "a = tanh(input_data * weights['h11']).sum()\n",
        "b = tanh((input_data * weights['h11']).sum())\n",
        "print(a,b)"
      ]
    },
    {
      "cell_type": "code",
      "execution_count": 6,
      "metadata": {
        "id": "TzQeqlJtQw57"
      },
      "outputs": [],
      "source": [
        "# TODO： 补全下列代码，将输入层的数据与第一隐藏层的权重相乘、求和、并输入到激活函数中。\n",
        "hidden_11_value = tanh(input_data * weights['h11']).sum()\n",
        "hidden_12_value = tanh(input_data * weights['h12']).sum()\n",
        "hidden_1_output = np.array([hidden_11_value, hidden_12_value])"
      ]
    },
    {
      "cell_type": "markdown",
      "metadata": {
        "id": "FJnLclNQQw57"
      },
      "source": [
        "2. 接下来是第二个隐藏层，这一层的操作与上一层完全相同。<br>"
      ]
    },
    {
      "cell_type": "code",
      "execution_count": 7,
      "metadata": {
        "id": "4bzDyTNjQw57"
      },
      "outputs": [],
      "source": [
        "# TODO： 补全下列代码，将上层输出的数据与第二隐藏层的权重相乘、求和、并输入到激活函数中。\n",
        "hidden_21_value = tanh(hidden_1_output * weights['h21']).sum()\n",
        "hidden_22_value = tanh(hidden_1_output * weights['h22']).sum()\n",
        "hidden_2_output = np.array([hidden_21_value, hidden_22_value])"
      ]
    },
    {
      "cell_type": "markdown",
      "metadata": {
        "id": "gKB5oEruQw58"
      },
      "source": [
        "3. 最后是输出层，此时只有一个节点需要运算，且无需添加激活函数。<br>"
      ]
    },
    {
      "cell_type": "code",
      "execution_count": 8,
      "metadata": {
        "id": "ISoVag3kQw58"
      },
      "outputs": [],
      "source": [
        "# TODO： 补全下列代码，将上层输出的数据与输出层的权重相乘、求和\n",
        "output = (hidden_2_output * weights['out']).sum()"
      ]
    },
    {
      "cell_type": "markdown",
      "metadata": {
        "id": "OCCwTN1mQw58"
      },
      "source": [
        "4. 至此，你已经完成了全部运算，下面将这几层的输出打印出来看看吧。<br>\n",
        "*注：output应为9.887385002294863*<br>"
      ]
    },
    {
      "cell_type": "code",
      "execution_count": 9,
      "metadata": {
        "colab": {
          "base_uri": "https://localhost:8080/"
        },
        "id": "OVEXd41DQw58",
        "outputId": "6953a8d3-d31d-4304-8082-320b9da89b1d"
      },
      "outputs": [
        {
          "output_type": "stream",
          "name": "stdout",
          "text": [
            "9.887385002294863\n"
          ]
        }
      ],
      "source": [
        "print(output)"
      ]
    },
    {
      "cell_type": "markdown",
      "metadata": {
        "id": "r9wgGYhLQw59"
      },
      "source": [
        "# 项目2：CIFAR-10图像分类\n",
        "\n",
        "## 前置准备\n",
        "\n",
        "&emsp;&emsp;本项目使用的数据集可以从torchvision库中直接导出，下面是一些基础数据操作（数据下载可能需要几分钟，请耐心等待）。<br>"
      ]
    },
    {
      "cell_type": "code",
      "source": [
        "!ls"
      ],
      "metadata": {
        "colab": {
          "base_uri": "https://localhost:8080/"
        },
        "id": "YhNvl9JBTkG4",
        "outputId": "f9132599-13af-4197-c51d-7fe827a5c1a9"
      },
      "execution_count": 11,
      "outputs": [
        {
          "output_type": "stream",
          "name": "stdout",
          "text": [
            "mnist_test.csv\tsample_data\n"
          ]
        }
      ]
    },
    {
      "cell_type": "code",
      "execution_count": 12,
      "metadata": {
        "colab": {
          "base_uri": "https://localhost:8080/",
          "height": 105,
          "referenced_widgets": [
            "0d6d6c26720143b690f9025a3a37eecc",
            "c7b73c10cd4244c49e875d06794f4fa0",
            "97db8c8ab4934760b20616113de15510",
            "2676f398db3042b78996fbd515fc7d64",
            "6dc36fe63b094362b640b5e4df5c118f",
            "7c2d86c3ae3843a688594fb4e156ea34",
            "038e43d99d714f2b979b6a8baa0dc30d",
            "63d512734d054e1f98bcf0f5a1b55822",
            "cf341d6c68494966ae33206b419cce5c",
            "3cd6d30b8c034b939232106f4714e9ac",
            "8dd37b275f7f4b89ba9bf3088ad378af"
          ]
        },
        "id": "_Htc9XKlQw59",
        "outputId": "9a1a0eb8-3971-4c0d-e13c-3cc451fc4864"
      },
      "outputs": [
        {
          "output_type": "stream",
          "name": "stdout",
          "text": [
            "Downloading https://www.cs.toronto.edu/~kriz/cifar-10-python.tar.gz to ./cifar-10-python.tar.gz\n"
          ]
        },
        {
          "output_type": "display_data",
          "data": {
            "text/plain": [
              "  0%|          | 0/170498071 [00:00<?, ?it/s]"
            ],
            "application/vnd.jupyter.widget-view+json": {
              "version_major": 2,
              "version_minor": 0,
              "model_id": "0d6d6c26720143b690f9025a3a37eecc"
            }
          },
          "metadata": {}
        },
        {
          "output_type": "stream",
          "name": "stdout",
          "text": [
            "Extracting ./cifar-10-python.tar.gz to ./\n",
            "Files already downloaded and verified\n"
          ]
        }
      ],
      "source": [
        "##定义对图像的各种变换操作，包括把array转换为tensor，对图像做正则化\n",
        "#transforms.Compose主要是用于常见的一些图形变换，例如裁剪、旋转\n",
        "#遍历list数组，对img依次执行每个transforms操作\n",
        "transform = transforms.Compose([transforms.ToTensor(),\n",
        "                                transforms.Normalize((0.4914, 0.48216, 0.44653),\n",
        "                                                     (0.24703, 0.24349, 0.26159))])\n",
        "#导出torchvision里的CIFAR10数据集，root是把数据下载之后存放的目录，train控制是不是在训练阶段，download控制是不是需要下载，transform把一系列的图像变换传入进来。\n",
        "trainset = torchvision.datasets.CIFAR10(root='./',\n",
        "                                        train=True, \n",
        "                                        download=True, \n",
        "                                        transform=transform)\n",
        "testset = torchvision.datasets.CIFAR10(root='./',\n",
        "                                       train=False, \n",
        "                                       download=True, \n",
        "                                       transform=transform)\n",
        "#用来把训练数据分成多个小组，此函数每次抛出一组数据。\n",
        "trainloader = torch.utils.data.DataLoader(trainset, \n",
        "                                          batch_size=16,\n",
        "                                          shuffle=True)\n",
        "#用来把测试数据分成多个小组，此函数每次抛出一组数据。\n",
        "testloader = torch.utils.data.DataLoader(testset, \n",
        "                                         batch_size=16, \n",
        "                                         shuffle=False)"
      ]
    },
    {
      "cell_type": "markdown",
      "metadata": {
        "id": "QKt23oEVQw5-"
      },
      "source": [
        "&emsp;&emsp;数据下载完成后，我们就可以简单查看数据label，看看是否和练习说明中的数据集介绍对的上。<br>"
      ]
    },
    {
      "cell_type": "code",
      "execution_count": 13,
      "metadata": {
        "colab": {
          "base_uri": "https://localhost:8080/"
        },
        "id": "oPRMgnBIQw5-",
        "outputId": "33932f6a-ee1c-470c-fb9c-65d2d45ecb6f"
      },
      "outputs": [
        {
          "output_type": "execute_result",
          "data": {
            "text/plain": [
              "['airplane',\n",
              " 'automobile',\n",
              " 'bird',\n",
              " 'cat',\n",
              " 'deer',\n",
              " 'dog',\n",
              " 'frog',\n",
              " 'horse',\n",
              " 'ship',\n",
              " 'truck']"
            ]
          },
          "metadata": {},
          "execution_count": 13
        }
      ],
      "source": [
        "trainset.classes"
      ]
    },
    {
      "cell_type": "markdown",
      "metadata": {
        "id": "Qy4HSmz2Qw5-"
      },
      "source": [
        "&emsp;&emsp;下面我们再来检查一下数据图像。<br>"
      ]
    },
    {
      "cell_type": "code",
      "execution_count": 14,
      "metadata": {
        "colab": {
          "base_uri": "https://localhost:8080/",
          "height": 477
        },
        "id": "5sYQjr_JQw5_",
        "outputId": "23fcf4b1-28f8-4e7a-f817-c8c831c7b79c"
      },
      "outputs": [
        {
          "output_type": "display_data",
          "data": {
            "text/plain": [
              "<Figure size 2160x2160 with 1 Axes>"
            ],
            "image/png": "[encoded data removed]"
          },
          "metadata": {
            "needs_background": "light"
          }
        }
      ],
      "source": [
        "#把图片进行可视化展示\n",
        "#定义画图的函数\n",
        "def imshow(inp, title=None):\n",
        "    \"\"\"Imshow for Tensor.\"\"\"\n",
        "    #定义画图的画布\n",
        "    fig = plt.figure(figsize=(30, 30))\n",
        "    #转换图片的纬度\n",
        "    inp = inp.numpy().transpose((1, 2, 0))\n",
        "    mean = np.array([0.485, 0.456, 0.406])\n",
        "    std = np.array([0.229, 0.224, 0.225])\n",
        "    #对图片进行标准化\n",
        "    inp = std * inp + mean\n",
        "    #整个图片数组的值限制在指定值a_min,与a_max之间\n",
        "    inp = np.clip(inp, 0, 1)\n",
        "    #对图片进行可视化展示\n",
        "    plt.imshow(inp, )\n",
        "\n",
        "# 获取一个batch的数据\n",
        "inputs, classes = next(iter(trainloader))\n",
        "\n",
        "# 以网格的格式展示，作用是将若干幅图像拼成一幅图像\n",
        "out = torchvision.utils.make_grid(inputs)\n",
        "# plt.imshow()就可显示图片同时也显示其格式。\n",
        "imshow(out, title=[trainset.classes[x] for x in classes])"
      ]
    },
    {
      "cell_type": "markdown",
      "metadata": {
        "id": "jNKKrcxXQw5_"
      },
      "source": [
        "## 问题1：搭建简单神经网络\n",
        "&emsp;&emsp;数据准备就绪后，就需要你来搭建一个简单神经网络。<br>"
      ]
    },
    {
      "cell_type": "code",
      "execution_count": 15,
      "metadata": {
        "id": "4Gq9-lXKQw5_"
      },
      "outputs": [],
      "source": [
        "# TODO： 补全下列类，定义一个3层全连接神经网络，输入维度是32*32*3，第一层输出维度是1000，第二层输出维度是500，第三层输出维度是10\n",
        "class Net(nn.Module):\n",
        "    def __init__(self):\n",
        "        super(Net, self).__init__()\n",
        "        self.fc1 = nn.Linear(32*32*3, 1000) # 需补全\n",
        "        self.fc2 = nn.Linear(1000, 500) # 需补全\n",
        "        self.fc3 = nn.Linear(500, 10) # 需补全\n",
        "        \n",
        "    def forward(self, x):\n",
        "        x = F.relu(self.fc1(x))\n",
        "        x = F.relu(self.fc2(x))\n",
        "        return self.fc3(x)\n",
        "#实例话神经网络的类\n",
        "net = Net()"
      ]
    },
    {
      "cell_type": "markdown",
      "metadata": {
        "id": "j4L5rXLGQw5_"
      },
      "source": [
        "&emsp;&emsp;在定义好模型结构之后，还需确定损失函数及优化器。<br>"
      ]
    },
    {
      "cell_type": "code",
      "execution_count": 16,
      "metadata": {
        "id": "vWwP_F2gQw5_"
      },
      "outputs": [],
      "source": [
        "# 定义损失函数-交叉熵\n",
        "criterion = nn.CrossEntropyLoss()\n",
        "# 定义优化器，将神经网络的参数都传入优化器，并定义学习率\n",
        "optimizer = optim.Adam(net.parameters(), lr=3e-4)"
      ]
    },
    {
      "cell_type": "markdown",
      "metadata": {
        "id": "0Gl_3h3kQw6A"
      },
      "source": [
        "## 问题2：神经网络的训练\n",
        "\n",
        "&emsp;&emsp;模型主要内容都已完成，下面就可以进行训练了。在模型训练过程中，一般遵循如下步骤：<br>\n",
        "1. 大for循环-epochs，用于管理一套数据循环训练几遍\n",
        "1. 小for循环-step，用于以batchsize为单位，从dataloader中调取数据\n",
        "1. 清空优化器的梯度\n",
        "1. 读入data和label，并进行形状变换（可做可不做）\n",
        "1. 运行模型前向传播过程\n",
        "1. 基于模型输出生成最终结果\n",
        "1. 计算损失\n",
        "1. 基于损失计算梯度\n",
        "1. 基于梯度更新参数"
      ]
    },
    {
      "cell_type": "code",
      "execution_count": null,
      "metadata": {
        "colab": {
          "base_uri": "https://localhost:8080/"
        },
        "id": "ct3XC0HSQw6A",
        "outputId": "1775f3d2-046f-44a2-839f-2ee7cc7fb903"
      },
      "outputs": [
        {
          "metadata": {
            "tags": null
          },
          "name": "stdout",
          "output_type": "stream",
          "text": [
            "Epoch 1/10\n"
          ]
        },
        {
          "metadata": {
            "tags": null
          },
          "name": "stderr",
          "output_type": "stream",
          "text": [
            "100%|██████████| 3125/3125 [02:20<00:00, 22.18it/s]\n"
          ]
        },
        {
          "metadata": {
            "tags": null
          },
          "name": "stdout",
          "output_type": "stream",
          "text": [
            "train Loss: 1.6405 Acc: 0.4183\n",
            "----------\n",
            "Epoch 2/10\n"
          ]
        },
        {
          "metadata": {
            "tags": null
          },
          "name": "stderr",
          "output_type": "stream",
          "text": [
            "100%|██████████| 3125/3125 [02:20<00:00, 22.31it/s]\n"
          ]
        },
        {
          "metadata": {
            "tags": null
          },
          "name": "stdout",
          "output_type": "stream",
          "text": [
            "train Loss: 1.4276 Acc: 0.4963\n",
            "----------\n",
            "Epoch 3/10\n"
          ]
        },
        {
          "output_type": "stream",
          "name": "stderr",
          "text": [
            "100%|██████████| 3125/3125 [02:21<00:00, 22.06it/s]\n"
          ]
        },
        {
          "output_type": "stream",
          "name": "stdout",
          "text": [
            "train Loss: 1.3095 Acc: 0.5380\n",
            "----------\n",
            "Epoch 4/10\n"
          ]
        },
        {
          "output_type": "stream",
          "name": "stderr",
          "text": [
            " 53%|█████▎    | 1649/3125 [01:17<01:25, 17.34it/s]"
          ]
        }
      ],
      "source": [
        "# TODO： 补全代码，训练模型\n",
        "# 相关代码已经提供在练习指导中，你需要根据模型训练步骤，将代码段逐一填入下列代码中。\n",
        "num_epochs = 10\n",
        "since = time.time()\n",
        "net.train()\n",
        "for epoch in range(num_epochs):\n",
        "    print('Epoch {}/{}'.format(epoch + 1, num_epochs))\n",
        "    \n",
        "    running_loss = 0.0\n",
        "    running_corrects = 0\n",
        "    # 从trainloader里循环取出每一批次数据，\n",
        "    for data in tqdm(trainloader):\n",
        "        # TODO： 补全代码\n",
        "        inputs, labels = data\n",
        "        inputs = inputs.view(-1, 32 * 32 * 3)\n",
        "        optimizer.zero_grad()\n",
        "        outputs = net(inputs)\n",
        "        _, preds = torch.max(outputs, 1)\n",
        "        loss = criterion(outputs, labels) \n",
        "        loss.backward()\n",
        "        optimizer.step()\n",
        "        # 一个批次数据的损失函数的计算\n",
        "        running_loss += loss.item() * inputs.size(0)\n",
        "        # 一个批次数据准确率的计算\n",
        "        running_corrects += torch.sum(preds == labels.data)\n",
        "    \n",
        "    #\n",
        "    #\n",
        "    epoch_loss = running_loss / trainloader.dataset.data.shape[0]\n",
        "    epoch_acc = running_corrects.double() / trainloader.dataset.data.shape[0]\n",
        "    \n",
        "    print('train Loss: {:.4f} Acc: {:.4f}'.format(\n",
        "        epoch_loss, epoch_acc))\n",
        "    print('-' * 10)\n",
        "    \n",
        "time_elapsed = time.time() - since\n",
        "print('Training complete in {:.0f}m {:.0f}s'.format(\n",
        "    time_elapsed // 60, time_elapsed % 60))"
      ]
    },
    {
      "cell_type": "markdown",
      "metadata": {
        "id": "aBOh4JHoQw6A"
      },
      "source": [
        "## 问题3：模型测评\n",
        "\n",
        "&emsp;&emsp;完成模型训练后，还需对模型进行测评，验证模型在测试集上的精度。<br>\n",
        "Tips：在模型训练日志中，也有打印精确度acc，但这是模型在训练集上的精度，而不是测试集上的精度哦。你可以观察观察训练集精度与测试集精度，看看有没有什么差异。"
      ]
    },
    {
      "cell_type": "code",
      "execution_count": null,
      "metadata": {
        "id": "IgRdmfB1Qw6A"
      },
      "outputs": [],
      "source": [
        "# TODO： 补全下列代码，完成模型测评\n",
        "correct, total = 0, 0\n",
        "net.eval()\n",
        "for data in tqdm(testloader):\n",
        "    inputs, labels = data\n",
        "    inputs = inputs.view(-1, 32 * 32 * 3)\n",
        "    outputs = net(inputs)\n",
        "    _, predicted = torch.max(outputs, 1) \n",
        "    total += labels.size(0)\n",
        "    correct += (predicted == labels).sum().item()\n",
        "print('The testing set accuracy of the network is: %d %%' % (100 * correct / total))"
      ]
    }
  ],
  "metadata": {
    "kernelspec": {
      "display_name": "Python 3",
      "language": "python",
      "name": "python3"
    },
    "language_info": {
      "codemirror_mode": {
        "name": "ipython",
        "version": 3
      },
      "file_extension": ".py",
      "mimetype": "text/x-python",
      "name": "python",
      "nbconvert_exporter": "python",
      "pygments_lexer": "ipython3",
      "version": "3.7.9"
    },
    "colab": {
      "name": "L5_深度学习初步_homework.ipynb",
      "provenance": [],
      "include_colab_link": true
    },
    "widgets": {
      "application/vnd.jupyter.widget-state+json": {
        "0d6d6c26720143b690f9025a3a37eecc": {
          "model_module": "@jupyter-widgets/controls",
          "model_name": "HBoxModel",
          "model_module_version": "1.5.0",
          "state": {
            "_dom_classes": [],
            "_model_module": "@jupyter-widgets/controls",
            "_model_module_version": "1.5.0",
            "_model_name": "HBoxModel",
            "_view_count": null,
            "_view_module": "@jupyter-widgets/controls",
            "_view_module_version": "1.5.0",
            "_view_name": "HBoxView",
            "box_style": "",
            "children": [
              "IPY_MODEL_c7b73c10cd4244c49e875d06794f4fa0",
              "IPY_MODEL_97db8c8ab4934760b20616113de15510",
              "IPY_MODEL_2676f398db3042b78996fbd515fc7d64"
            ],
            "layout": "IPY_MODEL_6dc36fe63b094362b640b5e4df5c118f"
          }
        },
        "c7b73c10cd4244c49e875d06794f4fa0": {
          "model_module": "@jupyter-widgets/controls",
          "model_name": "HTMLModel",
          "model_module_version": "1.5.0",
          "state": {
            "_dom_classes": [],
            "_model_module": "@jupyter-widgets/controls",
            "_model_module_version": "1.5.0",
            "_model_name": "HTMLModel",
            "_view_count": null,
            "_view_module": "@jupyter-widgets/controls",
            "_view_module_version": "1.5.0",
            "_view_name": "HTMLView",
            "description": "",
            "description_tooltip": null,
            "layout": "IPY_MODEL_7c2d86c3ae3843a688594fb4e156ea34",
            "placeholder": "​",
            "style": "IPY_MODEL_038e43d99d714f2b979b6a8baa0dc30d",
            "value": "100%"
          }
        },
        "97db8c8ab4934760b20616113de15510": {
          "model_module": "@jupyter-widgets/controls",
          "model_name": "FloatProgressModel",
          "model_module_version": "1.5.0",
          "state": {
            "_dom_classes": [],
            "_model_module": "@jupyter-widgets/controls",
            "_model_module_version": "1.5.0",
            "_model_name": "FloatProgressModel",
            "_view_count": null,
            "_view_module": "@jupyter-widgets/controls",
            "_view_module_version": "1.5.0",
            "_view_name": "ProgressView",
            "bar_style": "success",
            "description": "",
            "description_tooltip": null,
            "layout": "IPY_MODEL_63d512734d054e1f98bcf0f5a1b55822",
            "max": 170498071,
            "min": 0,
            "orientation": "horizontal",
            "style": "IPY_MODEL_cf341d6c68494966ae33206b419cce5c",
            "value": 170498071
          }
        },
        "2676f398db3042b78996fbd515fc7d64": {
          "model_module": "@jupyter-widgets/controls",
          "model_name": "HTMLModel",
          "model_module_version": "1.5.0",
          "state": {
            "_dom_classes": [],
            "_model_module": "@jupyter-widgets/controls",
            "_model_module_version": "1.5.0",
            "_model_name": "HTMLModel",
            "_view_count": null,
            "_view_module": "@jupyter-widgets/controls",
            "_view_module_version": "1.5.0",
            "_view_name": "HTMLView",
            "description": "",
            "description_tooltip": null,
            "layout": "IPY_MODEL_3cd6d30b8c034b939232106f4714e9ac",
            "placeholder": "​",
            "style": "IPY_MODEL_8dd37b275f7f4b89ba9bf3088ad378af",
            "value": " 170498071/170498071 [00:06&lt;00:00, 32378853.03it/s]"
          }
        },
        "6dc36fe63b094362b640b5e4df5c118f": {
          "model_module": "@jupyter-widgets/base",
          "model_name": "LayoutModel",
          "model_module_version": "1.2.0",
          "state": {
            "_model_module": "@jupyter-widgets/base",
            "_model_module_version": "1.2.0",
            "_model_name": "LayoutModel",
            "_view_count": null,
            "_view_module": "@jupyter-widgets/base",
            "_view_module_version": "1.2.0",
            "_view_name": "LayoutView",
            "align_content": null,
            "align_items": null,
            "align_self": null,
            "border": null,
            "bottom": null,
            "display": null,
            "flex": null,
            "flex_flow": null,
            "grid_area": null,
            "grid_auto_columns": null,
            "grid_auto_flow": null,
            "grid_auto_rows": null,
            "grid_column": null,
            "grid_gap": null,
            "grid_row": null,
            "grid_template_areas": null,
            "grid_template_columns": null,
            "grid_template_rows": null,
            "height": null,
            "justify_content": null,
            "justify_items": null,
            "left": null,
            "margin": null,
            "max_height": null,
            "max_width": null,
            "min_height": null,
            "min_width": null,
            "object_fit": null,
            "object_position": null,
            "order": null,
            "overflow": null,
            "overflow_x": null,
            "overflow_y": null,
            "padding": null,
            "right": null,
            "top": null,
            "visibility": null,
            "width": null
          }
        },
        "7c2d86c3ae3843a688594fb4e156ea34": {
          "model_module": "@jupyter-widgets/base",
          "model_name": "LayoutModel",
          "model_module_version": "1.2.0",
          "state": {
            "_model_module": "@jupyter-widgets/base",
            "_model_module_version": "1.2.0",
            "_model_name": "LayoutModel",
            "_view_count": null,
            "_view_module": "@jupyter-widgets/base",
            "_view_module_version": "1.2.0",
            "_view_name": "LayoutView",
            "align_content": null,
            "align_items": null,
            "align_self": null,
            "border": null,
            "bottom": null,
            "display": null,
            "flex": null,
            "flex_flow": null,
            "grid_area": null,
            "grid_auto_columns": null,
            "grid_auto_flow": null,
            "grid_auto_rows": null,
            "grid_column": null,
            "grid_gap": null,
            "grid_row": null,
            "grid_template_areas": null,
            "grid_template_columns": null,
            "grid_template_rows": null,
            "height": null,
            "justify_content": null,
            "justify_items": null,
            "left": null,
            "margin": null,
            "max_height": null,
            "max_width": null,
            "min_height": null,
            "min_width": null,
            "object_fit": null,
            "object_position": null,
            "order": null,
            "overflow": null,
            "overflow_x": null,
            "overflow_y": null,
            "padding": null,
            "right": null,
            "top": null,
            "visibility": null,
            "width": null
          }
        },
        "038e43d99d714f2b979b6a8baa0dc30d": {
          "model_module": "@jupyter-widgets/controls",
          "model_name": "DescriptionStyleModel",
          "model_module_version": "1.5.0",
          "state": {
            "_model_module": "@jupyter-widgets/controls",
            "_model_module_version": "1.5.0",
            "_model_name": "DescriptionStyleModel",
            "_view_count": null,
            "_view_module": "@jupyter-widgets/base",
            "_view_module_version": "1.2.0",
            "_view_name": "StyleView",
            "description_width": ""
          }
        },
        "63d512734d054e1f98bcf0f5a1b55822": {
          "model_module": "@jupyter-widgets/base",
          "model_name": "LayoutModel",
          "model_module_version": "1.2.0",
          "state": {
            "_model_module": "@jupyter-widgets/base",
            "_model_module_version": "1.2.0",
            "_model_name": "LayoutModel",
            "_view_count": null,
            "_view_module": "@jupyter-widgets/base",
            "_view_module_version": "1.2.0",
            "_view_name": "LayoutView",
            "align_content": null,
            "align_items": null,
            "align_self": null,
            "border": null,
            "bottom": null,
            "display": null,
            "flex": null,
            "flex_flow": null,
            "grid_area": null,
            "grid_auto_columns": null,
            "grid_auto_flow": null,
            "grid_auto_rows": null,
            "grid_column": null,
            "grid_gap": null,
            "grid_row": null,
            "grid_template_areas": null,
            "grid_template_columns": null,
            "grid_template_rows": null,
            "height": null,
            "justify_content": null,
            "justify_items": null,
            "left": null,
            "margin": null,
            "max_height": null,
            "max_width": null,
            "min_height": null,
            "min_width": null,
            "object_fit": null,
            "object_position": null,
            "order": null,
            "overflow": null,
            "overflow_x": null,
            "overflow_y": null,
            "padding": null,
            "right": null,
            "top": null,
            "visibility": null,
            "width": null
          }
        },
        "cf341d6c68494966ae33206b419cce5c": {
          "model_module": "@jupyter-widgets/controls",
          "model_name": "ProgressStyleModel",
          "model_module_version": "1.5.0",
          "state": {
            "_model_module": "@jupyter-widgets/controls",
            "_model_module_version": "1.5.0",
            "_model_name": "ProgressStyleModel",
            "_view_count": null,
            "_view_module": "@jupyter-widgets/base",
            "_view_module_version": "1.2.0",
            "_view_name": "StyleView",
            "bar_color": null,
            "description_width": ""
          }
        },
        "3cd6d30b8c034b939232106f4714e9ac": {
          "model_module": "@jupyter-widgets/base",
          "model_name": "LayoutModel",
          "model_module_version": "1.2.0",
          "state": {
            "_model_module": "@jupyter-widgets/base",
            "_model_module_version": "1.2.0",
            "_model_name": "LayoutModel",
            "_view_count": null,
            "_view_module": "@jupyter-widgets/base",
            "_view_module_version": "1.2.0",
            "_view_name": "LayoutView",
            "align_content": null,
            "align_items": null,
            "align_self": null,
            "border": null,
            "bottom": null,
            "display": null,
            "flex": null,
            "flex_flow": null,
            "grid_area": null,
            "grid_auto_columns": null,
            "grid_auto_flow": null,
            "grid_auto_rows": null,
            "grid_column": null,
            "grid_gap": null,
            "grid_row": null,
            "grid_template_areas": null,
            "grid_template_columns": null,
            "grid_template_rows": null,
            "height": null,
            "justify_content": null,
            "justify_items": null,
            "left": null,
            "margin": null,
            "max_height": null,
            "max_width": null,
            "min_height": null,
            "min_width": null,
            "object_fit": null,
            "object_position": null,
            "order": null,
            "overflow": null,
            "overflow_x": null,
            "overflow_y": null,
            "padding": null,
            "right": null,
            "top": null,
            "visibility": null,
            "width": null
          }
        },
        "8dd37b275f7f4b89ba9bf3088ad378af": {
          "model_module": "@jupyter-widgets/controls",
          "model_name": "DescriptionStyleModel",
          "model_module_version": "1.5.0",
          "state": {
            "_model_module": "@jupyter-widgets/controls",
            "_model_module_version": "1.5.0",
            "_model_name": "DescriptionStyleModel",
            "_view_count": null,
            "_view_module": "@jupyter-widgets/base",
            "_view_module_version": "1.2.0",
            "_view_name": "StyleView",
            "description_width": ""
          }
        }
      }
    }
  },
  "nbformat": 4,
  "nbformat_minor": 0
}