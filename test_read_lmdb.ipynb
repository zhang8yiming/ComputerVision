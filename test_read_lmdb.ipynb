{
 "cells": [
  {
   "cell_type": "code",
   "execution_count": 1,
   "metadata": {},
   "outputs": [],
   "source": [
    "import cv2\n",
    "import lmdb\n",
    "import random\n",
    "import numpy as np\n",
    "from tqdm import tqdm"
   ]
  },
  {
   "cell_type": "code",
   "execution_count": 16,
   "metadata": {},
   "outputs": [],
   "source": [
    "# keys 列表存放图像和标签的地址，\n",
    "data_list_fns = ['data_list/val.csv']\n",
    "\n",
    "keys = []\n",
    "for data_list_fn in data_list_fns:\n",
    "    with open(data_list_fn, 'r') as f:\n",
    "        lines = f.readlines() \n",
    "        keys += [k.replace('\\\\', '/') for line in lines for k in line.strip().split(', ')]"
   ]
  },
  {
   "cell_type": "code",
   "execution_count": null,
   "metadata": {},
   "outputs": [],
   "source": [
    "keys"
   ]
  },
  {
   "cell_type": "code",
   "execution_count": 18,
   "metadata": {
    "scrolled": true
   },
   "outputs": [],
   "source": [
    "env = lmdb.open('small_dataset_lmdb', map_size=int(1e9)) "
   ]
  },
  {
   "cell_type": "markdown",
   "metadata": {},
   "source": [
    "数据库环境的结构：\n",
    "一个环境可能包含多个数据库，所有数据库都驻留在同一个共享内存映射和底层磁盘文件中。\n",
    "在同一个进程中同时打开同一个 LMDB 文件是一个严重的错误。 不注意这一点可能会导致数据损坏和解释器崩溃。\n",
    "\n",
    "path:\n",
    "存储数据库的目录位置（如果 subdir=True）或文件前缀。\n",
    "\n",
    "map_size\n",
    "最大的数据库可能会增长的大小。用于调整内存映射的大小。如果数据库增长大于“map_size”，将引发异常，用户必须关闭并重新打开环境。在 64 位上，这样做不会受到惩罚（比如 1TB）。 在 32 位上必须小于 2GB。\n",
    "————————————————\n",
    "\n",
    "原文链接：https://blog.csdn.net/Sonia8/article/details/123249240\n",
    "\n",
    "数据集的lmdb：\n",
    "将数据集转换成lmdb实际上就是一条条地将img和label的key-value形式写进lmdb中\n",
    "\n",
    "img数据在lmdb中是以二进制形式存储的"
   ]
  },
  {
   "cell_type": "code",
   "execution_count": 22,
   "metadata": {},
   "outputs": [
    {
     "name": "stderr",
     "output_type": "stream",
     "text": [
      "100%|██████████| 40/40 [00:00<00:00, 1246.39it/s]\n"
     ]
    }
   ],
   "source": [
    "txn = env.begin(write=True)\n",
    "for key in tqdm(keys):\n",
    "    with open(key, 'rb') as f:\n",
    "        img_bytes = f.read() # 读取图片\n",
    "    \n",
    "    # 添加数据\n",
    "    txn.put(key.encode(), img_bytes) \n",
    "\n",
    "# 通过commit()函数提交更改 \n",
    "txn.commit()\n",
    "env.close()"
   ]
  },
  {
   "cell_type": "code",
   "execution_count": null,
   "metadata": {},
   "outputs": [],
   "source": [
    "# test reading\n",
    "env = lmdb.open('small_dataset_lmdb')\n",
    "txn = env.begin(write=False)\n",
    "# 打乱数据\n",
    "random.shuffle(keys) \n",
    "\n",
    "for key in keys:\n",
    "    img_bytes = txn.get(key.encode()) # 编码数据\n",
    "    img_bytes = np.array(bytearray(img_bytes), dtype=np.uint8) # 数据类型转换成数组\n",
    "    \n",
    "    # 解码数据\n",
    "    if key.endswith('.jpg'):\n",
    "        img = cv2.imdecode(img_bytes, cv2.IMREAD_COLOR) \n",
    "    elif key.endswith('.png'):\n",
    "        img = cv2.imdecode(img_bytes, cv2.IMREAD_GRAYSCALE)\n",
    "    else:\n",
    "        print('Unknown image type: %s' % key)\n",
    "        exit()\n",
    "    # 图片 resize\n",
    "    img = cv2.resize(img, (img.shape[1]//3, img.shape[0]//3))\n",
    "    # 显示图片\n",
    "    cv2.imshow('show', img)\n",
    "    key = cv2.waitKey(0)\n",
    "    if 27 == key:\n",
    "        break\n",
    "env.close()"
   ]
  },
  {
   "cell_type": "code",
   "execution_count": null,
   "metadata": {},
   "outputs": [],
   "source": []
  }
 ],
 "metadata": {
  "kernelspec": {
   "display_name": "Python 3",
   "language": "python",
   "name": "python3"
  },
  "language_info": {
   "codemirror_mode": {
    "name": "ipython",
    "version": 3
   },
   "file_extension": ".py",
   "mimetype": "text/x-python",
   "name": "python",
   "nbconvert_exporter": "python",
   "pygments_lexer": "ipython3",
   "version": "3.7.5"
  },
  "toc": {
   "base_numbering": 1,
   "nav_menu": {},
   "number_sections": true,
   "sideBar": true,
   "skip_h1_title": false,
   "title_cell": "Table of Contents",
   "title_sidebar": "Contents",
   "toc_cell": false,
   "toc_position": {},
   "toc_section_display": true,
   "toc_window_display": false
  }
 },
 "nbformat": 4,
 "nbformat_minor": 4
}
